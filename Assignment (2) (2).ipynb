{
 "cells": [
  {
   "cell_type": "code",
   "execution_count": 1,
   "metadata": {},
   "outputs": [
    {
     "name": "stdout",
     "output_type": "stream",
     "text": [
      "3.27.2\n"
     ]
    }
   ],
   "source": [
    "import sqlite3\n",
    "\n",
    "# Display SQLite version number\n",
    "print (sqlite3.sqlite_version)"
   ]
  },
  {
   "cell_type": "code",
   "execution_count": 2,
   "metadata": {},
   "outputs": [
    {
     "name": "stdout",
     "output_type": "stream",
     "text": [
      "<class 'sqlite3.Connection'>\n",
      "<class 'sqlite3.Cursor'>\n"
     ]
    }
   ],
   "source": [
    "# Connect to the Database - the DATABASE must already exisit\n",
    "# Example of path: 'C:\\\\Users\\\\nm319\\\\OneDrive - University of Exeter\\\\__Exeter Teaching (2020-21)\\\\Lab Sessions\\\\Week 3\\\\XXX.db'\n",
    "# conn=sqlite3.connect('C:\\\\Users\\\\nm319\\\\OneDrive - University of Exeter\\\\__Exeter Teaching (2020-21)\\\\Lab Sessions\\\\Week 5\\\\BEMM459.db')\n",
    "conn=sqlite3.connect('S:\\\\Temp\\\\Assignment\\\\AssignmentDatabase13.db')    \n",
    "    \n",
    "# conn is an object of the Connection class - the next command is only for display\n",
    "print(type(conn))\n",
    "\n",
    "# The connection object (conn) has access to various methods of the Connection class. \n",
    "# We are using the method cursor() and which returns a cursor object.\n",
    "# The cursor object is essential to perform any operation on the database (CRUD operations).\n",
    "cur=conn.cursor()\n",
    "\n",
    "# The next command is only for display\n",
    "print(type(cur))"
   ]
  },
  {
   "cell_type": "code",
   "execution_count": 3,
   "metadata": {},
   "outputs": [],
   "source": [
    "# Listing all tables in database (suggest using SQLIte prompt and command .tables)\n",
    "# Once we have the cursor object, we can perform all SQL operations with the help of execute() method.\n",
    "\n",
    "# define a function\n",
    "def tables_in_sqlite_db(conn):\n",
    "    cursor = conn.execute(\"SELECT name FROM sqlite_master WHERE type='table';\")\n",
    "    tables = [\n",
    "        v[0] for v in cursor.fetchall()\n",
    "        if v[0] != \"sqlite_sequence\"\n",
    "    ]\n",
    "    cursor.close()\n",
    "    return tables"
   ]
  },
  {
   "cell_type": "code",
   "execution_count": 4,
   "metadata": {},
   "outputs": [
    {
     "name": "stdout",
     "output_type": "stream",
     "text": [
      "['CATEGORY', 'BOOKS', 'AUTHORS', 'CUSTOMERS', 'BOOKS_AUTHORS']\n"
     ]
    }
   ],
   "source": [
    "# call the function and pass connection object \n",
    "tables = tables_in_sqlite_db(conn)\n",
    "\n",
    "#print tables in the current database\n",
    "print(tables)"
   ]
  },
  {
   "cell_type": "code",
   "execution_count": 5,
   "metadata": {},
   "outputs": [
    {
     "name": "stdout",
     "output_type": "stream",
     "text": [
      "Table created successfully\n"
     ]
    }
   ],
   "source": [
    "# Note: If the table is created succesfully, executing the code again will lead to exception\n",
    "\n",
    "# Once we have the cursor object, we can perform all SQL operations with the help of .execute() method\n",
    "\n",
    "qry='''\n",
    "CREATE TABLE CATEGORY (\n",
    "        catID TEXT   PRIMARY KEY,\n",
    "        CatName   TEXT (40)\n",
    "    );\n",
    "'''\n",
    "try:\n",
    "        cur.execute(qry)\n",
    "        print ('Table created successfully')\n",
    "except:\n",
    "# If table already exists then use the SQLite console to connect to the database (Assignmentdatabase1) and then use the drop table command.\n",
    "# .. Altenatively, use the SQLiteStudio GUI to delete table BOOKS and execute this code block again.\n",
    "        print ('Error in creating table as table exists.. using drop table. Please execute this command again for create the new table.')\n",
    "        \n",
    "        # Use the next statement with extreme caution as both table and data will be lost\n",
    "        cur.execute(\"DROP TABLE IF EXISTS BOOKS;\")"
   ]
  },
  {
   "cell_type": "code",
   "execution_count": 6,
   "metadata": {},
   "outputs": [
    {
     "name": "stdout",
     "output_type": "stream",
     "text": [
      "Tables created successfully\n"
     ]
    }
   ],
   "source": [
    "# Create other three tables using the method executescript() that is defined in the cursor class. \n",
    "# executescript() makes it possible to execute multiple SQL statements.\n",
    "\n",
    "qry='''\n",
    "CREATE TABLE BOOKS (\n",
    "        ISBN   INTEGER PRIMARY KEY,\n",
    "        NAME   TEXT (30),\n",
    "        PubYear INTEGER (10),\n",
    "        LANG   TEXT (15),\n",
    "        CATEGORY   TEXT REFERENCES CATEGORY(catID),\n",
    "        AUTHOR  TEXT REFERENCES AUTHORS(AuID)\n",
    "    );\n",
    "CREATE TABLE AUTHORS (\n",
    "        AuID TEXT   PRIMARY KEY,\n",
    "        AuName   TEXT (30),\n",
    "        Country TEXT (30)\n",
    "    );\n",
    "CREATE TABLE CUSTOMERS (\n",
    "        CuID     TEXT     PRIMARY KEY,\n",
    "        Name TEXT (30)\n",
    "    );\n",
    "CREATE TABLE BOOKS_AUTHORS (\n",
    "        booksauthorsID     INTEGER     PRIMARY KEY AUTOINCREMENT,\n",
    "        booksauthorsBOOKS  INTEGER   REFERENCES BOOKS (ISBN),\n",
    "        booksauthorsAUTHORS TEXT  REFERENCES AUTHORS (AuID),\n",
    "        booksauthorsCore TEXT (10)  \n",
    "    );\n",
    "\n",
    "'''\n",
    "try:\n",
    "        cur.executescript(qry)\n",
    "        print ('Tables created successfully')\n",
    "except:\n",
    "        print ('Error in creating tables')"
   ]
  },
  {
   "cell_type": "code",
   "execution_count": 7,
   "metadata": {},
   "outputs": [
    {
     "name": "stdout",
     "output_type": "stream",
     "text": [
      "One record inserted successfully..commit\n"
     ]
    }
   ],
   "source": [
    "qry=\"insert into BOOKS values (981456101, 'War and Peace', '2010', 'ENGLISH', 'FF', 'LT1');\"\n",
    "\n",
    "try:\n",
    "        cur.execute(qry)\n",
    "        conn.commit()\n",
    "        print ('One record inserted successfully..commit')\n",
    "except:\n",
    "        print ('Error in insert operation..rollback')\n",
    "        conn.rollback()\n",
    "        print(conn)"
   ]
  },
  {
   "cell_type": "code",
   "execution_count": 10,
   "metadata": {},
   "outputs": [
    {
     "name": "stdout",
     "output_type": "stream",
     "text": [
      "Records inserted successfully..committed\n"
     ]
    }
   ],
   "source": [
    "qry=\"insert into BOOKS (ISBN, NAME, PubYear, LANG, CATEGORY, AUTHOR) values (?,?,?,?,?,?);\"\n",
    "BOOKSLIST=[(189192346, 'War and Peace', '2019', 'RUSSIAN', 'FN', 'LT1'),\n",
    "            (191923466, 'The Little Prince', '2018', 'FRENCH', 'FN', 'AE1'),\n",
    "            (119234661, 'The Da Vinci code', '2020', 'TH', 'ENGLISH', 'DB1'),\n",
    "            (292346612, 'Harry Potter and the Chamber of Secrets', '2009', 'ENGLISH', 'FS', 'JR1'),\n",
    "            (223466122, 'The Catcher In The Rye', '2021', 'ENGLISH', 'FN', 'JS1'),\n",
    "            (334661234, 'Ben-Hur: A Tale of the Christ', '2019', 'ENGLISH', 'HS', 'LW1'),\n",
    "            (434661249, 'Rebecca', '2021', 'ENGLISH', 'FN', 'DM1'),\n",
    "            (592346612, 'A Brief History Of Time', '2018', 'ENGLISH', 'NF', 'SH1'),\n",
    "            (761219234, 'Becoming', '2019', 'ENGLISH', 'BG', 'MO1'),\n",
    "            (866121923, 'The Godfather', '2008', 'ITALIAN', 'FN', 'MP1'),\n",
    "            (946612192, 'Gone Girl', '2017', 'ENGLISH', 'HT', 'GF1'),\n",
    "            (734661219, 'The Godfather', '2008', 'ENGLISH', 'FN', 'MP1'),\n",
    "            (546612192, 'The Godfather', '2008', 'ENGLISH', 'FN', 'MP1'),\n",
    "            (161219234, 'The Secret', '2016', 'ENGLISH', 'SH', 'RB1'),\n",
    "            (566121923, 'Man’s Search for Meaning', '2020', 'ENGLISH', 'PS', 'VF1'),\n",
    "            (361292346, 'She: Understanding Femini', '2021', 'ENGLISH', 'PS', 'RJ1'),\n",
    "            (546619212, 'The Book Thief', '2018', 'GERMAN', 'FN', 'MZ1'),\n",
    "            (212923466, 'The Book Thief', '2018', 'ENGLISH', 'FN', 'MZ1'),\n",
    "            (821346612, 'Rich Dad, Poor Dad', '2015', 'ENGLISH', 'BS', 'RK1'),\n",
    "            (321923466, 'One-storied America', '2007', 'RUSSIAN', 'FN', 'II1')]\n",
    "\n",
    "try:\n",
    "        cur.executemany(qry, BOOKSLIST)\n",
    "        conn.commit()\n",
    "        print ('Records inserted successfully..committed')\n",
    "except:\n",
    "        print ('Error in insert operation..rollback')\n",
    "        conn.rollback()"
   ]
  },
  {
   "cell_type": "code",
   "execution_count": 11,
   "metadata": {},
   "outputs": [
    {
     "name": "stdout",
     "output_type": "stream",
     "text": [
      "One record inserted successfully..commit\n"
     ]
    }
   ],
   "source": [
    "# Insert one record in table CATEGORY\n",
    "# Commit only if no exception is encountered, else rollback\n",
    "\n",
    "qry=\"insert into CATEGORY values ('FN', 'Fiction');\"\n",
    "\n",
    "try:\n",
    "        cur.execute(qry)\n",
    "        conn.commit()\n",
    "        print ('One record inserted successfully..commit')\n",
    "except:\n",
    "        print ('Error in insert operation..rollback')\n",
    "        conn.rollback()\n",
    "        print(conn)"
   ]
  },
  {
   "cell_type": "code",
   "execution_count": 12,
   "metadata": {},
   "outputs": [
    {
     "name": "stdout",
     "output_type": "stream",
     "text": [
      "Records inserted successfully..committed\n"
     ]
    }
   ],
   "source": [
    "qry=\"insert into CATEGORY (catID, CatName) values (?,?);\"\n",
    "CATEGORYLIST=[('FS', 'Fantasy'),\n",
    "           ('NF', 'NonFiction'),\n",
    "           ('TH', 'Thriller'),\n",
    "           ('HS', 'History'),\n",
    "           ('BG', 'Biography'),\n",
    "           ('SH', 'SelfHelp'),\n",
    "           ('PS', 'Psychology'),\n",
    "           ('BS', 'Business'),\n",
    "           ('PH', 'Philosophy')]\n",
    "\n",
    "try:\n",
    "        cur.executemany(qry, CATEGORYLIST)\n",
    "        conn.commit()\n",
    "        print ('Records inserted successfully..committed')\n",
    "except:\n",
    "        print ('Error in insert operation..rollback')\n",
    "        conn.rollback()"
   ]
  },
  {
   "cell_type": "code",
   "execution_count": 14,
   "metadata": {},
   "outputs": [
    {
     "name": "stdout",
     "output_type": "stream",
     "text": [
      "One record inserted successfully..commit\n"
     ]
    }
   ],
   "source": [
    "# Insert one record in table AUTHORS\n",
    "# Commit only if no exception is encountered, else rollback\n",
    "\n",
    "qry=\"insert into AUTHORS values ('LT1', 'Leo Tolstoy', 'Russia');\"\n",
    "\n",
    "try:\n",
    "        cur.execute(qry)\n",
    "        conn.commit()\n",
    "        print ('One record inserted successfully..commit')\n",
    "except:\n",
    "        print ('Error in insert operation..rollback')\n",
    "        conn.rollback()\n",
    "        print(conn)"
   ]
  },
  {
   "cell_type": "code",
   "execution_count": 15,
   "metadata": {},
   "outputs": [
    {
     "name": "stdout",
     "output_type": "stream",
     "text": [
      "Records inserted successfully..committed\n"
     ]
    }
   ],
   "source": [
    "# INSERTING records in table AUTHORS\n",
    "\n",
    "qry=\"insert into AUTHORS (AuID, AuName, Country) values (?,?,?);\"\n",
    "authorslist=[('AE1', 'Antoine Exepury', 'France'),\n",
    "           ('DB1', 'Dan Brown', 'US'),\n",
    "           ('JS1', 'Jerome Salinger', 'US'),\n",
    "           ('YH1', 'Yuval Harrari', 'Israel'),\n",
    "           ('LW1', 'Lew Wallace', 'US'),\n",
    "           ('DM1', 'Daphne du Maurier', 'UK'),\n",
    "           ('SH1', 'Stephen Hawking', 'UK'),\n",
    "           ('MO1', 'Michelle Obama', 'US'),\n",
    "           ('MP1', 'Mario Puzo', 'Italia'),\n",
    "           ('GF1', 'Gillian Flynn', 'US'),\n",
    "           ('RB1', 'Rhonda Byrne', 'Australia'),\n",
    "           ('VF1', 'Viktor Frankl', 'Austria'),\n",
    "           ('RJ1', 'Robert A. Johnson', 'US'),\n",
    "           ('MZ1', 'Markus Zusak', 'AUS'),\n",
    "           ('RK1', 'Robert Kiyosaki', 'US'),\n",
    "           ('II1', 'Ilya Ilf', 'Russia'),\n",
    "           ('YP1', 'Yevgeny Petrov', 'Russia'),\n",
    "           ('AN1', 'Annalyn Ng', 'US'),\n",
    "           ('KS1', 'Kenneth Soo', 'US')]\n",
    "\n",
    "try:\n",
    "        cur.executemany(qry, authorslist)\n",
    "        conn.commit()\n",
    "        print ('Records inserted successfully..committed')\n",
    "except:\n",
    "        print ('Error in insert operation..rollback')\n",
    "        conn.rollback()"
   ]
  },
  {
   "cell_type": "code",
   "execution_count": 15,
   "metadata": {},
   "outputs": [
    {
     "name": "stdout",
     "output_type": "stream",
     "text": [
      "Enter Book ISBN:147852369\n",
      "Enter name of Book to update:Spring\n",
      "Enter publication year of book:2018\n",
      "Enter language of book:ENGLISH\n",
      "Enter category of book:SH\n",
      "Enter author of book:GF1\n",
      "New book added\n"
     ]
    }
   ],
   "source": [
    "# Insert one record in table BOOKS based on user input\n",
    "\n",
    "inputBookISBN=int(input('Enter Book ISBN:'))\n",
    "inputName=input('Enter name of Book to update:')\n",
    "inputPubYear=input('Enter publication year of book:')\n",
    "inputLANG=input('Enter language of book:')\n",
    "inputCAT=input('Enter category of book:')\n",
    "inputAuthor=input('Enter author of book:')\n",
    "\n",
    "qry=\"insert into BOOKS values (?,?,?,?,?,?);\"\n",
    "\n",
    "try:\n",
    "        cur.execute(qry, (inputBookISBN, inputName, inputPubYear, inputLANG, inputCAT, inputAuthor))\n",
    "        print ('New book added')\n",
    "        conn.commit()\n",
    "except:\n",
    "        print ('Error in adding department .. rollback')\n",
    "        conn.rollback()"
   ]
  },
  {
   "cell_type": "code",
   "execution_count": 8,
   "metadata": {},
   "outputs": [
    {
     "name": "stdout",
     "output_type": "stream",
     "text": [
      "(119234661, 'The Da Vinci code', 2020, 'TH', 'ENGLISH', 'DB1')\n"
     ]
    }
   ],
   "source": [
    "# QUERY and DISPLAY one record from the table BOOKS\n",
    "\n",
    "# Prepare the query String\n",
    "qry=\"select * from BOOKS;\"\n",
    "\n",
    "# Execute query on SQLite\n",
    "cur.execute(qry)\n",
    "\n",
    "# Fetch and display one row\n",
    "row=cur.fetchone()\n",
    "\n",
    "print (row)"
   ]
  },
  {
   "cell_type": "code",
   "execution_count": 5,
   "metadata": {},
   "outputs": [
    {
     "name": "stdout",
     "output_type": "stream",
     "text": [
      "(119234661, 'The Da Vinci code', 2020, 'TH', 'ENGLISH', 'DB1')\n",
      "(161219234, 'The Secret', 2016, 'ENGLISH', 'SH', 'RB1')\n",
      "(189192346, 'War and Peace', 2019, 'RUSSIAN', 'FN', 'LT1')\n",
      "(191923466, 'The Little Prince', 2018, 'FRENCH', 'FN', 'AE1')\n",
      "(212923466, 'The Book Thief', 2018, 'ENGLISH', 'FN', 'MZ1')\n",
      "(223466122, 'The Catcher In The Rye', 2021, 'ENGLISH', 'FN', 'JS1')\n",
      "(292346612, 'Harry Potter and the Chamber of Secrets', 2009, 'ENGLISH', 'FS', 'JR1')\n",
      "(321923466, 'One-storied America', 2007, 'RUSSIAN', 'FN', 'II1')\n",
      "(334661234, 'Ben-Hur: A Tale of the Christ', 2019, 'ENGLISH', 'HS', 'LW1')\n",
      "(361292346, 'She: Understanding Femini', 2021, 'ENGLISH', 'PS', 'RJ1')\n",
      "(434661249, 'Rebecca', 2021, 'ENGLISH', 'FN', 'DM1')\n",
      "(546612192, 'The Godfather', 2008, 'ENGLISH', 'FN', 'MP1')\n",
      "(546619212, 'The Book Thief', 2018, 'GERMAN', 'FN', 'MZ1')\n",
      "(566121923, 'Man’s Search for Meaning', 2020, 'ENGLISH', 'PS', 'VF1')\n",
      "(592346612, 'A Brief History Of Time', 2018, 'ENGLISH', 'NF', 'SH1')\n",
      "(734661219, 'The Godfather', 2008, 'ENGLISH', 'FN', 'MP1')\n",
      "(761219234, 'Becoming', 2019, 'ENGLISH', 'BG', 'MO1')\n",
      "(821346612, 'Rich Dad, Poor Dad', 2015, 'ENGLISH', 'BS', 'RK1')\n",
      "(866121923, 'The Godfather', 2008, 'ITALIAN', 'FN', 'MP1')\n",
      "(946612192, 'Gone Girl', 2017, 'ENGLISH', 'HT', 'GF1')\n",
      "(981456101, 'War and Peace', 2010, 'ENGLISH', 'FF', 'LT1')\n"
     ]
    }
   ],
   "source": [
    "# Query and display records from the table BOOKS (all rows)\n",
    "\n",
    "# Prepare the query String\n",
    "qry=\"select * from BOOKS;\"\n",
    "\n",
    "# Execute query on SQLite\n",
    "cur.execute(qry)\n",
    "\n",
    "# Fetch and display all rows\n",
    "rows=cur.fetchall()\n",
    "\n",
    "for row in rows:\n",
    "    print (row)"
   ]
  },
  {
   "cell_type": "code",
   "execution_count": 19,
   "metadata": {},
   "outputs": [
    {
     "name": "stdout",
     "output_type": "stream",
     "text": [
      "Enter book ISBN:821346612\n",
      "(821346612, 'Rich Dad, Poor Dad', 2015, 'ENGLISH', 'BS', 'RK1')\n",
      "Book Name is  Rich Dad, Poor Dad\n"
     ]
    }
   ],
   "source": [
    "# Query and display records from the table ECC_DEPARTMENT based on user input\n",
    "\n",
    "inputISBN=input ('Enter book ISBN:')\n",
    "qry=\"select * from BOOKS where ISBN=?\";\n",
    "cur.execute(qry, (inputISBN,))\n",
    "row=cur.fetchone()\n",
    "print (row)\n",
    "\n",
    "# IMPORTANT: Individual items in the tuple can be accessed by index .. we are accessing the second attribute\n",
    "print (\"Book Name is \", row[1])"
   ]
  },
  {
   "cell_type": "code",
   "execution_count": 10,
   "metadata": {},
   "outputs": [
    {
     "name": "stdout",
     "output_type": "stream",
     "text": [
      "Enter name of BOOKS to update:Gone Girl\n",
      "Enter new book number:123654789\n",
      "Book name updated\n"
     ]
    }
   ],
   "source": [
    "# Update table based on user input\n",
    "\n",
    "inputName=input('Enter name of BOOKS to update:')\n",
    "inputbookISBN=int(input('Enter new book number:'))\n",
    "qry='update BOOKS set ISBN=? where NAME=?'\n",
    "\n",
    "try:\n",
    "        cur.execute(qry, (inputName,inputbookISBN))\n",
    "        print ('Book name updated')\n",
    "        conn.commit()\n",
    "except:\n",
    "        print ('Error in update operation .. rollback')\n",
    "        conn.rollback()"
   ]
  },
  {
   "cell_type": "code",
   "execution_count": 17,
   "metadata": {},
   "outputs": [
    {
     "name": "stdout",
     "output_type": "stream",
     "text": [
      "Enter name of books to update:Gone Girl\n",
      "Enter new book number:147852365\n",
      "Book name updated\n"
     ]
    }
   ],
   "source": [
    "# Update table based on user input\n",
    "\n",
    "inputName=input('Enter name of books to update:')\n",
    "inputbookISBN=int(input('Enter new book number:'))\n",
    "qry='update BOOKS set ISBN=? where NAME=?'\n",
    "\n",
    "try:\n",
    "        cur.execute(qry, (inputName,inputbookISBN))\n",
    "        print ('Book name updated')\n",
    "        conn.commit()\n",
    "except:\n",
    "        print ('Error in update operation .. rollback')\n",
    "        conn.rollback()"
   ]
  },
  {
   "cell_type": "code",
   "execution_count": 18,
   "metadata": {},
   "outputs": [
    {
     "name": "stdout",
     "output_type": "stream",
     "text": [
      "Enter name of book to delete:Gone Girl\n",
      "Book deleted\n"
     ]
    }
   ],
   "source": [
    "# Delete record based on user input\n",
    "\n",
    "inputName=input('Enter name of book to delete:')\n",
    "qry='delete from BOOKS where NAME=?'\n",
    "try:\n",
    "        cur.execute(qry, (inputName,))\n",
    "        print ('Book deleted')\n",
    "        conn.commit()\n",
    "except:\n",
    "        print ('Error in deleting book', inputName)\n",
    "        conn.rollback()"
   ]
  },
  {
   "cell_type": "code",
   "execution_count": null,
   "metadata": {},
   "outputs": [],
   "source": []
  },
  {
   "cell_type": "code",
   "execution_count": null,
   "metadata": {},
   "outputs": [],
   "source": [
    "NoSQL REDIS  DATABASE APPLICATION"
   ]
  },
  {
   "cell_type": "code",
   "execution_count": 5,
   "metadata": {},
   "outputs": [
    {
     "name": "stdout",
     "output_type": "stream",
     "text": [
      "True\n"
     ]
    }
   ],
   "source": [
    "# Import Redis package\n",
    "import redis\n",
    "\n",
    "# Main class Redis() which you use to execute Redis commands (the port and db=0 are default values)\n",
    "# Localhost = 127.0.0.1\n",
    "r = redis.Redis(host='localhost', port=6379, db=10)\n",
    "\n",
    "# Check database connection -will return true if successful\n",
    "print(r.ping())"
   ]
  },
  {
   "cell_type": "code",
   "execution_count": null,
   "metadata": {},
   "outputs": [],
   "source": []
  },
  {
   "cell_type": "code",
   "execution_count": 6,
   "metadata": {},
   "outputs": [
    {
     "name": "stdout",
     "output_type": "stream",
     "text": [
      "FL001\n",
      "Key:  1\n",
      "Value:  AF001\n",
      "Key:  2\n",
      "Value:  DB001\n",
      "Key:  3\n",
      "Value:  JT001\n",
      "Key:  5\n",
      "Value:  HK001\n",
      "Key:  6\n",
      "Value:  HP001\n",
      "Key:  7\n",
      "Value:  JC001\n",
      "Key:  8\n",
      "Value:  MJ001\n",
      "Key:  9\n",
      "Value:  CB001\n",
      "Key:  10\n",
      "Value:  AF002\n",
      "Key:  11\n",
      "Value:  PL001\n",
      "Key:  12\n",
      "Value:  JM001\n",
      "Key:  13\n",
      "Value:  JM002\n",
      "Key:  14\n",
      "Value:  HC001\n",
      "Key:  15\n",
      "Value:  CM001\n",
      "Key:  16\n",
      "Value:  KK001\n",
      "Key:  17\n",
      "Value:  EB001\n",
      "Key:  18\n",
      "Value:  RP001\n",
      "Key:  19\n",
      "Value:  EW001\n",
      "Key:  20\n",
      "Value:  EC001\n",
      "Key:  4\n",
      "Value:  FL001\n",
      "The keys present in the Redis hash:\n",
      "[b'1', b'2', b'3', b'5', b'6', b'7', b'8', b'9', b'10', b'11', b'12', b'13', b'14', b'15', b'16', b'17', b'18', b'19', b'20', b'4']\n",
      "The values present in the Redis hash:\n",
      "[b'AF001', b'DB001', b'JT001', b'HK001', b'HP001', b'JC001', b'MJ001', b'CB001', b'AF002', b'PL001', b'JM001', b'JM002', b'HC001', b'CM001', b'KK001', b'EB001', b'RP001', b'EW001', b'EC001', b'FL001']\n",
      "The keys and values present in the Redis hash are:\n",
      "{b'1': b'AF001', b'2': b'DB001', b'3': b'JT001', b'5': b'HK001', b'6': b'HP001', b'7': b'JC001', b'8': b'MJ001', b'9': b'CB001', b'10': b'AF002', b'11': b'PL001', b'12': b'JM001', b'13': b'JM002', b'14': b'HC001', b'15': b'CM001', b'16': b'KK001', b'17': b'EB001', b'18': b'RP001', b'19': b'EW001', b'20': b'EC001', b'4': b'FL001'}\n",
      "After removal...\n",
      "{b'1': b'AF001', b'2': b'DB001', b'3': b'JT001', b'5': b'HK001', b'6': b'HP001', b'7': b'JC001', b'8': b'MJ001', b'9': b'CB001', b'10': b'AF002', b'11': b'PL001', b'12': b'JM001', b'13': b'JM002', b'14': b'HC001', b'15': b'CM001', b'16': b'KK001', b'17': b'EB001', b'18': b'RP001', b'19': b'EW001', b'20': b'EC001'}\n"
     ]
    }
   ],
   "source": [
    "# The HSET command adds a key-value pair to a hash. If the hash does not exist one will be created. If a key already exists, the value for the key is set to the specified value.\n",
    "\n",
    "# HSET - Add key value pairs to the Redis hash\n",
    "r.hset(\"EAC:Library:Cust\", \"1\", \"AF001\")\n",
    "r.hset(\"EAC:Library:Cust\", \"2\", \"DB001\")\n",
    "r.hset(\"EAC:Library:Cust\", \"3\", \"JT001\")\n",
    "r.hset(\"EAC:Library:Cust\", \"4\", \"FL001\")\n",
    "r.hset(\"EAC:Library:Cust\", \"5\", \"HK001\")\n",
    "r.hset(\"EAC:Library:Cust\", \"6\", \"HP001\")\n",
    "r.hset(\"EAC:Library:Cust\", \"7\", \"JC001\")\n",
    "r.hset(\"EAC:Library:Cust\", \"8\", \"MJ001\")\n",
    "r.hset(\"EAC:Library:Cust\", \"9\", \"CB001\")\n",
    "r.hset(\"EAC:Library:Cust\", \"10\", \"AF002\")\n",
    "r.hset(\"EAC:Library:Cust\", \"11\", \"PL001\")\n",
    "r.hset(\"EAC:Library:Cust\", \"12\", \"JM001\")\n",
    "r.hset(\"EAC:Library:Cust\", \"13\", \"JM002\")\n",
    "r.hset(\"EAC:Library:Cust\", \"14\", \"HC001\")\n",
    "r.hset(\"EAC:Library:Cust\", \"15\", \"CM001\")\n",
    "r.hset(\"EAC:Library:Cust\", \"16\", \"KK001\")\n",
    "r.hset(\"EAC:Library:Cust\", \"17\", \"EB001\")\n",
    "r.hset(\"EAC:Library:Cust\", \"18\", \"RP001\")\n",
    "r.hset(\"EAC:Library:Cust\", \"19\", \"EW001\")\n",
    "r.hset(\"EAC:Library:Cust\", \"20\", \"EC001\")\n",
    "\n",
    "\n",
    "# HGET - Retrieve the value for a specific key\n",
    "val = r.hget(\"EAC:Library:Cust\", \"4\").decode(\"utf-8\")\n",
    "print (val)\n",
    "\n",
    "# HKEYS retrieves all the keys present in a hash. The redis-py returns the keys as a Python list.\n",
    "ky=r.hkeys(\"EAC:Library:Cust\")\n",
    "\n",
    "\n",
    "# Loop through keys present in a hash and display the values \n",
    "for x in ky:\n",
    "    print(\"Key: \", x.decode(\"utf-8\"))\n",
    "    print(\"Value: \", r.hget(\"EAC:Library:Cust\", x.decode(\"utf-8\")).decode(\"utf-8\"))    \n",
    "    \n",
    "\n",
    "# HKEYS retrieves all the keys present in a hash. The redis-py returns the keys as a Python list.\n",
    "print(\"The keys present in the Redis hash:\");\n",
    "print(r.hkeys(\"EAC:Library:Cust\"))\n",
    "\n",
    "# HVALS retrieves all the keys present in a hash. The redis-py returns the values as a Python list.\n",
    "print(\"The values present in the Redis hash:\");\n",
    "print(r.hvals(\"EAC:Library:Cust\"))\n",
    "\n",
    "# HGETALL retrieves all the keys and their values present in a hash. The redis-py returns the keys and values as a Python dictionary.\n",
    "print(\"The keys and values present in the Redis hash are:\")\n",
    "print(r.hgetall(\"EAC:Library:Cust\"))\n",
    "\n",
    "# HDEL removes a key-value pair identified by a specific key.\n",
    "print(\"After removal...\")\n",
    "r.hdel(\"EAC:Library:Cust\", 4)\n",
    "print(r.hgetall(\"EAC:Library:Cust\"))"
   ]
  },
  {
   "cell_type": "code",
   "execution_count": 7,
   "metadata": {},
   "outputs": [
    {
     "name": "stdout",
     "output_type": "stream",
     "text": [
      "{'Full Name': 'Jim Morrison', 'Phone': 4452563577, 'Book1 issued': 'Poetry', 'Book1 issue date': '14.05.2021', 'Book1 return date': '17.05.2021'}\n",
      "{'Full Name': 'John Terry', 'Occupation': 'Sportsman', 'Phone': '44789558556', 'email': 'jt@gmail.com', 'Book1 issued': 'Totally Frank', 'Book1 issue date': '12.07.2021'}\n",
      "{'Full Name': 'Jason Momoa', 'Phone': 4452563577, 'Interests': 'Fighting', 'Book1 issued': 'Marital arts', 'Book1 issue date': '10.06.2021', 'Book1 return date': '18.06.2021'}\n",
      "{'Full Name': 'Helena Bonam Carter', 'Interests': 'Art', 'Book1 issued': 'Fight club', 'Book1 issue date': '14.05.2021', 'Book1 return date': '18.05.2021'}\n",
      "{'Full Name': 'Harry Kane', 'email': 'hk@gmail.com', 'Book1 issued': 'Football', 'Book1 issue date': '01.03.2021', 'Book1 return date': '04.03.2021'}\n",
      "{'Full Name': 'Carey Mulligan', 'Interests': 'Art', 'Book1 issued': 'Great Gatsby', 'Book1 issue date': '14.05.2021', 'Book1 return date': '18.05.2021'}\n",
      "{'Full Name': 'Harry Potter', 'Book1 issued': 'Magic history', 'Interests': 'Magic', 'Book1 issue date': '01.03.2021', 'Book1 return date': '04.03.2021'}\n",
      "{'Full Name': 'Keira Knightley', 'Book1 issued': 'Anna Karenin', 'Book1 issue date': '14.05.2021', 'Book1 return date': '18.05.2021'}\n",
      "{'Full Name': 'Jim Carrey', 'Occupation': 'Actor', 'Phone': '44789128556', 'email': 'jk@gmail.com', 'Interests': 'Comedy'}\n",
      "{'Full Name': 'Emily Blunt', 'Book1 issued': 'Fashion', 'Book1 issue date': '15.05.2021', 'Book1 return date': '18.05.2021'}\n",
      "{'Full Name': 'Michael Jordan', 'Book1 issued': 'Game', 'Book1 issue date': '11.07.2021'}\n",
      "{'Full Name': 'Carol Baker', 'Book1 issued': 'Management', 'Book1 issue date': '11.07.2021'}\n",
      "{'Full Name': 'Alexander Fleming', 'Book1 issued': 'Biologic diversity', 'Book1 issue date': '11.05.2021', 'Book1 return date': '14.05.2021'}\n",
      "{'Full Name': 'Emily Clark', 'Occupation': 'Actress', 'email': 'ec@gmail.com', 'Book1 issued': 'Game of thrones', 'Book1 issue date': '11.07.2021'}\n",
      "{'Full Name': 'Phillip Lacheau', 'Book1 issued': 'Theater and movie', 'Book1 issue date': '12.05.2021', 'Book1 return date': '13.05.2021'}\n",
      "{'Full Name': 'Rosamund Pike', 'Book1 issue date': '15.05.2021', 'Book1 return date': '18.05.2021'}\n",
      "{'Full Name': 'Emma Watson', 'email': 'ew@gmail.com', 'Book1 issued': 'Harry Potter', 'Book1 issue date': '12.07.2021'}\n",
      "{'Full Name': 'Alex Ferguson', 'Occupation': 'Coach', 'Phone': '44789123456', 'email': 'af@gmail.com', 'Book1 issued': 'Manchester by the sea', 'Book1 issue date': '15.07.2021'}\n",
      "{'Full Name': 'David Bowie', 'Occupation': 'Singer', 'Phone': '44789128556', 'email': 'db@gmail.com', 'Book1 issued': 'Space', 'Book1 issue date': '14.07.2021'}\n"
     ]
    }
   ],
   "source": [
    "import json\n",
    "\n",
    "recordAF001 = {\n",
    "    \"Full Name\": \"Alex Ferguson\",\n",
    "    \"Occupation\": \"Coach\",\n",
    "    \"Phone\": \"44789123456\",\n",
    "    \"email\": \"af@gmail.com\",\n",
    "    \"Book1 issued\": \"Manchester by the sea\",\n",
    "    \"Book1 issue date\": \"15.07.2021\"    \n",
    "}\n",
    "\n",
    "recordDB001 = {\n",
    "    \"Full Name\": \"David Bowie\",\n",
    "    \"Occupation\": \"Singer\",\n",
    "    \"Phone\": \"44789128556\",\n",
    "    \"email\": \"db@gmail.com\",\n",
    "    \"Book1 issued\": \"Space\",\n",
    "    \"Book1 issue date\": \"14.07.2021\"\n",
    "}\n",
    "\n",
    "recordJT001 = {\n",
    "    \"Full Name\": \"John Terry\",\n",
    "    \"Occupation\": \"Sportsman\",\n",
    "    \"Phone\": \"44789558556\",\n",
    "    \"email\": \"jt@gmail.com\",\n",
    "    \"Book1 issued\": \"Totally Frank\",\n",
    "    \"Book1 issue date\": \"12.07.2021\"\n",
    "}\n",
    "\n",
    "recordHK001 = {\n",
    "    \"Full Name\": \"Harry Kane\",\n",
    "    \"email\": \"hk@gmail.com\",\n",
    "    \"Book1 issued\": \"Football\",\n",
    "    \"Book1 issue date\": \"01.03.2021\",\n",
    "    \"Book1 return date\": \"04.03.2021\"    \n",
    "}\n",
    "\n",
    "recordHP001 = {\n",
    "    \"Full Name\": \"Harry Potter\",\n",
    "    \"Book1 issued\": \"Magic history\",\n",
    "    \"Interests\": \"Magic\",\n",
    "    \"Book1 issue date\": \"01.03.2021\",\n",
    "    \"Book1 return date\": \"04.03.2021\"    \n",
    "}\n",
    "\n",
    "recordJC001 = {\n",
    "    \"Full Name\": \"Jim Carrey\",\n",
    "    \"Occupation\": \"Actor\",\n",
    "    \"Phone\": \"44789128556\",\n",
    "    \"email\": \"jk@gmail.com\",\n",
    "    \"Interests\": \"Comedy\"\n",
    "}\n",
    "\n",
    "recordMJ001 = {\n",
    "    \"Full Name\": \"Michael Jordan\",\n",
    "    \"Book1 issued\": \"Game\",\n",
    "    \"Book1 issue date\": \"11.07.2021\",\n",
    "}\n",
    "\n",
    "recordCB001 = {\n",
    "    \"Full Name\": \"Carol Baker\",\n",
    "    \"Book1 issued\": \"Management\",\n",
    "    \"Book1 issue date\": \"11.07.2021\",\n",
    "}\n",
    "\n",
    "\n",
    "recordAF002 = {\n",
    "    \"Full Name\": \"Alexander Fleming\",\n",
    "    \"Book1 issued\": \"Biologic diversity\",\n",
    "    \"Book1 issue date\": \"11.05.2021\",\n",
    "    \"Book1 return date\": \"14.05.2021\"\n",
    "}\n",
    "\n",
    "recordPL001 = {\n",
    "    \"Full Name\": \"Phillip Lacheau\",\n",
    "    \"Book1 issued\": \"Theater and movie\",\n",
    "    \"Book1 issue date\": \"12.05.2021\",\n",
    "    \"Book1 return date\": \"13.05.2021\"\n",
    "}\n",
    "\n",
    "recordJM001 = {\n",
    "    \"Full Name\": \"Jim Morrison\",\n",
    "    \"Phone\": 4452563577,\n",
    "    \"Book1 issued\": \"Poetry\",\n",
    "    \"Book1 issue date\": \"14.05.2021\",\n",
    "    \"Book1 return date\": \"17.05.2021\"\n",
    "}\n",
    "\n",
    "recordJM002 = {\n",
    "    \"Full Name\": \"Jason Momoa\",\n",
    "    \"Phone\": 4452563577,\n",
    "    \"Interests\": \"Fighting\",\n",
    "    \"Book1 issued\": \"Marital arts\",\n",
    "    \"Book1 issue date\": \"10.06.2021\",\n",
    "    \"Book1 return date\": \"18.06.2021\"\n",
    "}\n",
    "\n",
    "recordHC001 = {\n",
    "    \"Full Name\": \"Helena Bonam Carter\",\n",
    "    \"Interests\": \"Art\",\n",
    "    \"Book1 issued\": \"Fight club\",\n",
    "    \"Book1 issue date\": \"14.05.2021\",\n",
    "    \"Book1 return date\": \"18.05.2021\"\n",
    "}\n",
    "\n",
    "recordCM001 = {\n",
    "    \"Full Name\": \"Carey Mulligan\",\n",
    "    \"Interests\": \"Art\",\n",
    "    \"Book1 issued\": \"Great Gatsby\",\n",
    "    \"Book1 issue date\": \"14.05.2021\",\n",
    "    \"Book1 return date\": \"18.05.2021\"\n",
    "}\n",
    "\n",
    "recordKK001 = {\n",
    "    \"Full Name\": \"Keira Knightley\",\n",
    "    \"Book1 issued\": \"Anna Karenin\",\n",
    "    \"Book1 issue date\": \"14.05.2021\",\n",
    "    \"Book1 return date\": \"18.05.2021\"\n",
    "}\n",
    "\n",
    "recordEB001 = {\n",
    "    \"Full Name\": \"Emily Blunt\",\n",
    "    \"Book1 issued\": \"Fashion\",\n",
    "    \"Book1 issue date\": \"15.05.2021\",\n",
    "    \"Book1 return date\": \"18.05.2021\"\n",
    "}\n",
    "\n",
    "recordRP001 = {\n",
    "    \"Full Name\": \"Rosamund Pike\",\n",
    "    \"Book1 issue date\": \"15.05.2021\",\n",
    "    \"Book1 return date\": \"18.05.2021\"\n",
    "}\n",
    "\n",
    "recordEW001 = {\n",
    "    \"Full Name\": \"Emma Watson\",\n",
    "    \"email\": \"ew@gmail.com\",\n",
    "    \"Book1 issued\": \"Harry Potter\",\n",
    "    \"Book1 issue date\": \"12.07.2021\",\n",
    "}\n",
    "\n",
    "\n",
    "recordEC001 = {\n",
    "    \"Full Name\": \"Emily Clark\",\n",
    "    \"Occupation\": \"Actress\",\n",
    "    \"email\": \"ec@gmail.com\",\n",
    "    \"Book1 issued\": \"Game of thrones\",\n",
    "    \"Book1 issue date\": \"11.07.2021\",\n",
    "}\n",
    "\n",
    "\n",
    "# The encode and dumps function together performs the task of converting the dictionary to string and then to corresponding byte value.\n",
    "# using encode() + dumps() to convert to bytes\n",
    "res_bytes_recordAF001 = json.dumps(recordAF001).encode('utf-8')\n",
    "res_bytes_recordDB001 = json.dumps(recordDB001).encode('utf-8')\n",
    "res_bytes_recordJT001 = json.dumps(recordJT001).encode('utf-8')\n",
    "res_bytes_recordHK001 = json.dumps(recordHK001).encode('utf-8')\n",
    "res_bytes_recordHP001 = json.dumps(recordHP001).encode('utf-8')\n",
    "res_bytes_recordJC001 = json.dumps(recordJC001).encode('utf-8')\n",
    "res_bytes_recordMJ001 = json.dumps(recordMJ001).encode('utf-8')\n",
    "res_bytes_recordCB001 = json.dumps(recordCB001).encode('utf-8')\n",
    "res_bytes_recordAF002 = json.dumps(recordAF002).encode('utf-8')\n",
    "res_bytes_recordPL001 = json.dumps(recordPL001).encode('utf-8')\n",
    "res_bytes_recordJM001 = json.dumps(recordJM001).encode('utf-8')\n",
    "res_bytes_recordJM002 = json.dumps(recordJM002).encode('utf-8')\n",
    "res_bytes_recordHC001 = json.dumps(recordHC001).encode('utf-8')\n",
    "res_bytes_recordCM001 = json.dumps(recordCM001).encode('utf-8')\n",
    "res_bytes_recordKK001 = json.dumps(recordKK001).encode('utf-8')\n",
    "res_bytes_recordEB001 = json.dumps(recordEB001).encode('utf-8')\n",
    "res_bytes_recordRP001 = json.dumps(recordRP001).encode('utf-8')\n",
    "res_bytes_recordEW001 = json.dumps(recordEW001).encode('utf-8')\n",
    "res_bytes_recordEC001 = json.dumps(recordEC001).encode('utf-8')\n",
    "\n",
    "\n",
    "r.hset(\"EAC:Library:Cust_FullRecord\", \"1\", res_bytes_recordAF001)\n",
    "r.hset(\"EAC:Library:Cust_FullRecord\", \"2\", res_bytes_recordDB001)\n",
    "r.hset(\"EAC:Library:Cust_FullRecord\", \"3\", res_bytes_recordJT001)\n",
    "r.hset(\"EAC:Library:Cust_FullRecord\", \"5\", res_bytes_recordHK001)\n",
    "r.hset(\"EAC:Library:Cust_FullRecord\", \"6\", res_bytes_recordHP001)\n",
    "r.hset(\"EAC:Library:Cust_FullRecord\", \"7\", res_bytes_recordJC001)\n",
    "r.hset(\"EAC:Library:Cust_FullRecord\", \"8\", res_bytes_recordMJ001)\n",
    "r.hset(\"EAC:Library:Cust_FullRecord\", \"9\", res_bytes_recordCB001)\n",
    "r.hset(\"EAC:Library:Cust_FullRecord\", \"10\", res_bytes_recordAF002)\n",
    "r.hset(\"EAC:Library:Cust_FullRecord\", \"11\", res_bytes_recordPL001)\n",
    "r.hset(\"EAC:Library:Cust_FullRecord\", \"12\", res_bytes_recordJM001)\n",
    "r.hset(\"EAC:Library:Cust_FullRecord\", \"13\", res_bytes_recordJM002)\n",
    "r.hset(\"EAC:Library:Cust_FullRecord\", \"14\", res_bytes_recordHC001)\n",
    "r.hset(\"EAC:Library:Cust_FullRecord\", \"15\", res_bytes_recordCM001)\n",
    "r.hset(\"EAC:Library:Cust_FullRecord\", \"16\", res_bytes_recordKK001)\n",
    "r.hset(\"EAC:Library:Cust_FullRecord\", \"17\", res_bytes_recordEB001)\n",
    "r.hset(\"EAC:Library:Cust_FullRecord\", \"18\", res_bytes_recordRP001)\n",
    "r.hset(\"EAC:Library:Cust_FullRecord\", \"19\", res_bytes_recordEW001)\n",
    "r.hset(\"EAC:Library:Cust_FullRecord\", \"20\", res_bytes_recordEC001)\n",
    "\n",
    "\n",
    "# HKEYS retrieves all the keys present in a hash. The redis-py returns the keys as a Python list.\n",
    "ky=r.hkeys(\"EAC:Library:Cust_FullRecord\")\n",
    "\n",
    "# Loop through keys present in a hash and display the values \n",
    "for x in ky:\n",
    "    res_dict = json.loads(r.hget(\"EAC:Library:Cust_FullRecord\", x.decode(\"utf-8\")).decode('utf-8'))\n",
    "    print(str(res_dict))"
   ]
  },
  {
   "cell_type": "code",
   "execution_count": 8,
   "metadata": {},
   "outputs": [
    {
     "name": "stdout",
     "output_type": "stream",
     "text": [
      "Does the key 1, exists:\n",
      "True\n"
     ]
    }
   ],
   "source": [
    "# Check if a key exists in Redis hash\n",
    "key = 1\n",
    "print(\"Does the key {}, exists:\".format(key))\n",
    "print(r.hexists(\"EAC:Library:Cust_FullRecord\", 1))"
   ]
  },
  {
   "cell_type": "code",
   "execution_count": 9,
   "metadata": {},
   "outputs": [
    {
     "name": "stdout",
     "output_type": "stream",
     "text": [
      "{b'10': b'{\"Full Name\": \"Alexander Fleming\", \"Book1 issued\": \"Biologic diversity\", \"Book1 issue date\": \"11.05.2021\", \"Book1 return date\": \"14.05.2021\"}', b'20': b'{\"Full Name\": \"Emily Clark\", \"Occupation\": \"Actress\", \"email\": \"ec@gmail.com\", \"Book1 issued\": \"Game of thrones\", \"Book1 issue date\": \"11.07.2021\"}', b'11': b'{\"Full Name\": \"Phillip Lacheau\", \"Book1 issued\": \"Theater and movie\", \"Book1 issue date\": \"12.05.2021\", \"Book1 return date\": \"13.05.2021\"}', b'12': b'{\"Full Name\": \"Jim Morrison\", \"Phone\": 4452563577, \"Book1 issued\": \"Poetry\", \"Book1 issue date\": \"14.05.2021\", \"Book1 return date\": \"17.05.2021\"}', b'13': b'{\"Full Name\": \"Jason Momoa\", \"Phone\": 4452563577, \"Interests\": \"Fighting\", \"Book1 issued\": \"Marital arts\", \"Book1 issue date\": \"10.06.2021\", \"Book1 return date\": \"18.06.2021\"}', b'14': b'{\"Full Name\": \"Helena Bonam Carter\", \"Interests\": \"Art\", \"Book1 issued\": \"Fight club\", \"Book1 issue date\": \"14.05.2021\", \"Book1 return date\": \"18.05.2021\"}', b'15': b'{\"Full Name\": \"Carey Mulligan\", \"Interests\": \"Art\", \"Book1 issued\": \"Great Gatsby\", \"Book1 issue date\": \"14.05.2021\", \"Book1 return date\": \"18.05.2021\"}', b'16': b'{\"Full Name\": \"Keira Knightley\", \"Book1 issued\": \"Anna Karenin\", \"Book1 issue date\": \"14.05.2021\", \"Book1 return date\": \"18.05.2021\"}', b'17': b'{\"Full Name\": \"Emily Blunt\", \"Book1 issued\": \"Fashion\", \"Book1 issue date\": \"15.05.2021\", \"Book1 return date\": \"18.05.2021\"}', b'18': b'{\"Full Name\": \"Rosamund Pike\", \"Book1 issue date\": \"15.05.2021\", \"Book1 return date\": \"18.05.2021\"}', b'19': b'{\"Full Name\": \"Emma Watson\", \"email\": \"ew@gmail.com\", \"Book1 issued\": \"Harry Potter\", \"Book1 issue date\": \"12.07.2021\"}', b'1': b'{\"Full Name\": \"Alex Ferguson\", \"Occupation\": \"Coach\", \"Phone\": \"44789123456\", \"email\": \"af@gmail.com\", \"Book1 issued\": \"Manchester by the sea\", \"Book1 issue date\": \"15.07.2021\"}', b'2': b'{\"Full Name\": \"David Bowie\", \"Occupation\": \"Singer\", \"Phone\": \"44789128556\", \"email\": \"db@gmail.com\", \"Book1 issued\": \"Space\", \"Book1 issue date\": \"14.07.2021\"}', b'3': b'{\"Full Name\": \"John Terry\", \"Occupation\": \"Sportsman\", \"Phone\": \"44789558556\", \"email\": \"jt@gmail.com\", \"Book1 issued\": \"Totally Frank\", \"Book1 issue date\": \"12.07.2021\"}', b'5': b'{\"Full Name\": \"Harry Kane\", \"email\": \"hk@gmail.com\", \"Book1 issued\": \"Football\", \"Book1 issue date\": \"01.03.2021\", \"Book1 return date\": \"04.03.2021\"}', b'6': b'{\"Full Name\": \"Harry Potter\", \"Book1 issued\": \"Magic history\", \"Interests\": \"Magic\", \"Book1 issue date\": \"01.03.2021\", \"Book1 return date\": \"04.03.2021\"}', b'7': b'{\"Full Name\": \"Jim Carrey\", \"Occupation\": \"Actor\", \"Phone\": \"44789128556\", \"email\": \"jk@gmail.com\", \"Interests\": \"Comedy\"}', b'8': b'{\"Full Name\": \"Michael Jordan\", \"Book1 issued\": \"Game\", \"Book1 issue date\": \"11.07.2021\"}', b'9': b'{\"Full Name\": \"Carol Baker\", \"Book1 issued\": \"Management\", \"Book1 issue date\": \"11.07.2021\"}'}\n"
     ]
    }
   ],
   "source": [
    "# Print the key value pairs of the Redis hash\n",
    "print(r.hgetall(\"EAC:Library:Cust_FullRecord\"))"
   ]
  },
  {
   "cell_type": "code",
   "execution_count": 10,
   "metadata": {},
   "outputs": [
    {
     "data": {
      "text/plain": [
       "1"
      ]
     },
     "execution_count": 10,
     "metadata": {},
     "output_type": "execute_result"
    }
   ],
   "source": [
    "# Remove a key (deleting a key)\n",
    "r.hdel(\"EAC:Library:Cust_FullRecord\", 20)"
   ]
  },
  {
   "cell_type": "code",
   "execution_count": 14,
   "metadata": {},
   "outputs": [
    {
     "name": "stdout",
     "output_type": "stream",
     "text": [
      "After deletion of a key:\n",
      "{b'10': b'{\"Full Name\": \"Alexander Fleming\", \"Book1 issued\": \"Biologic diversity\", \"Book1 issue date\": \"11.05.2021\", \"Book1 return date\": \"14.05.2021\"}', b'11': b'{\"Full Name\": \"Phillip Lacheau\", \"Book1 issued\": \"Theater and movie\", \"Book1 issue date\": \"12.05.2021\", \"Book1 return date\": \"13.05.2021\"}', b'12': b'{\"Full Name\": \"Jim Morrison\", \"Phone\": 4452563577, \"Book1 issued\": \"Poetry\", \"Book1 issue date\": \"14.05.2021\", \"Book1 return date\": \"17.05.2021\"}', b'13': b'{\"Full Name\": \"Jason Momoa\", \"Phone\": 4452563577, \"Interests\": \"Fighting\", \"Book1 issued\": \"Marital arts\", \"Book1 issue date\": \"10.06.2021\", \"Book1 return date\": \"18.06.2021\"}', b'14': b'{\"Full Name\": \"Helena Bonam Carter\", \"Interests\": \"Art\", \"Book1 issued\": \"Fight club\", \"Book1 issue date\": \"14.05.2021\", \"Book1 return date\": \"18.05.2021\"}', b'15': b'{\"Full Name\": \"Carey Mulligan\", \"Interests\": \"Art\", \"Book1 issued\": \"Great Gatsby\", \"Book1 issue date\": \"14.05.2021\", \"Book1 return date\": \"18.05.2021\"}', b'16': b'{\"Full Name\": \"Keira Knightley\", \"Book1 issued\": \"Anna Karenin\", \"Book1 issue date\": \"14.05.2021\", \"Book1 return date\": \"18.05.2021\"}', b'17': b'{\"Full Name\": \"Emily Blunt\", \"Book1 issued\": \"Fashion\", \"Book1 issue date\": \"15.05.2021\", \"Book1 return date\": \"18.05.2021\"}', b'18': b'{\"Full Name\": \"Rosamund Pike\", \"Book1 issue date\": \"15.05.2021\", \"Book1 return date\": \"18.05.2021\"}', b'19': b'{\"Full Name\": \"Emma Watson\", \"email\": \"ew@gmail.com\", \"Book1 issued\": \"Harry Potter\", \"Book1 issue date\": \"12.07.2021\"}', b'1': b'{\"Full Name\": \"Alex Ferguson\", \"Occupation\": \"Coach\", \"Phone\": \"44789123456\", \"email\": \"af@gmail.com\", \"Book1 issued\": \"Manchester by the sea\", \"Book1 issue date\": \"15.07.2021\"}', b'2': b'{\"Full Name\": \"David Bowie\", \"Occupation\": \"Singer\", \"Phone\": \"44789128556\", \"email\": \"db@gmail.com\", \"Book1 issued\": \"Space\", \"Book1 issue date\": \"14.07.2021\"}', b'3': b'{\"Full Name\": \"John Terry\", \"Occupation\": \"Sportsman\", \"Phone\": \"44789558556\", \"email\": \"jt@gmail.com\", \"Book1 issued\": \"Totally Frank\", \"Book1 issue date\": \"12.07.2021\"}', b'5': b'{\"Full Name\": \"Harry Kane\", \"email\": \"hk@gmail.com\", \"Book1 issued\": \"Football\", \"Book1 issue date\": \"01.03.2021\", \"Book1 return date\": \"04.03.2021\"}', b'6': b'{\"Full Name\": \"Harry Potter\", \"Book1 issued\": \"Magic history\", \"Interests\": \"Magic\", \"Book1 issue date\": \"01.03.2021\", \"Book1 return date\": \"04.03.2021\"}', b'7': b'{\"Full Name\": \"Jim Carrey\", \"Occupation\": \"Actor\", \"Phone\": \"44789128556\", \"email\": \"jk@gmail.com\", \"Interests\": \"Comedy\"}', b'8': b'{\"Full Name\": \"Michael Jordan\", \"Book1 issued\": \"Game\", \"Book1 issue date\": \"11.07.2021\"}', b'9': b'{\"Full Name\": \"Carol Baker\", \"Book1 issued\": \"Management\", \"Book1 issue date\": \"11.07.2021\"}'}\n"
     ]
    }
   ],
   "source": [
    "# Print the key after a key-value is removed\n",
    "print(\"After deletion of a key:\")\n",
    "print(r.hgetall(\"EAC:Library:Cust_FullRecord\"))"
   ]
  },
  {
   "cell_type": "code",
   "execution_count": null,
   "metadata": {},
   "outputs": [],
   "source": []
  }
 ],
 "metadata": {
  "kernelspec": {
   "display_name": "Python 3",
   "language": "python",
   "name": "python3"
  },
  "language_info": {
   "codemirror_mode": {
    "name": "ipython",
    "version": 3
   },
   "file_extension": ".py",
   "mimetype": "text/x-python",
   "name": "python",
   "nbconvert_exporter": "python",
   "pygments_lexer": "ipython3",
   "version": "3.7.3"
  }
 },
 "nbformat": 4,
 "nbformat_minor": 2
}
