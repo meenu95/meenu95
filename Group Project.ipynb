{
 "cells": [
  {
   "cell_type": "code",
   "execution_count": 1,
   "metadata": {},
   "outputs": [
    {
     "name": "stdout",
     "output_type": "stream",
     "text": [
      "3.27.2\n"
     ]
    }
   ],
   "source": [
    "import sqlite3\n",
    "\n",
    "# Display SQLite version number\n",
    "print (sqlite3.sqlite_version)"
   ]
  },
  {
   "cell_type": "code",
   "execution_count": null,
   "metadata": {},
   "outputs": [],
   "source": []
  },
  {
   "cell_type": "code",
   "execution_count": 2,
   "metadata": {},
   "outputs": [
    {
     "name": "stdout",
     "output_type": "stream",
     "text": [
      "<class 'sqlite3.Connection'>\n",
      "<class 'sqlite3.Cursor'>\n"
     ]
    }
   ],
   "source": [
    "conn=sqlite3.connect('S:\\\\GroupProject\\\\Ecommerce.db')\n",
    "print(type(conn))\n",
    "\n",
    "# The connection object (conn) has access to various methods of the Connection class. \n",
    "# We are using the method cursor() and which returns a cursor object.\n",
    "# The cursor object is essential to perform any operation on the database (CRUD operations).\n",
    "cur=conn.cursor()\n",
    "\n",
    "# The next command is only for display\n",
    "print(type(cur))"
   ]
  },
  {
   "cell_type": "code",
   "execution_count": 3,
   "metadata": {},
   "outputs": [],
   "source": [
    "def tables_in_sqlite_db(conn):\n",
    "    cursor = conn.execute(\"SELECT name FROM sqlite_master WHERE type='table';\")\n",
    "    tables = [\n",
    "        v[0] for v in cursor.fetchall()\n",
    "        if v[0] != \"sqlite_sequence\"\n",
    "    ]\n",
    "    cursor.close()\n",
    "    return tables"
   ]
  },
  {
   "cell_type": "code",
   "execution_count": 11,
   "metadata": {},
   "outputs": [
    {
     "name": "stdout",
     "output_type": "stream",
     "text": [
      "['ECO_INVENTORY', 'ORD_INV', 'ORD_DEL', 'E_EMPLOYEE', 'EC_ORDER', 'E_Warehouse', 'E_CUSTOMER', 'E_BILLINGINFO', 'E_COURIER', 'E_DELIVERYINFO']\n"
     ]
    }
   ],
   "source": [
    "# call the function and pass connection object \n",
    "tables = tables_in_sqlite_db(conn)\n",
    "\n",
    "#print tables in the current database\n",
    "print(tables)"
   ]
  },
  {
   "cell_type": "code",
   "execution_count": 10,
   "metadata": {},
   "outputs": [
    {
     "name": "stdout",
     "output_type": "stream",
     "text": [
      "Table dropped... \n"
     ]
    }
   ],
   "source": [
    "cur.execute(\"DROP TABLE DELIVERY_INFO\")\n",
    "print(\"Table dropped... \")\n",
    "conn.commit()"
   ]
  },
  {
   "cell_type": "code",
   "execution_count": 21,
   "metadata": {},
   "outputs": [
    {
     "data": {
      "text/plain": [
       "<sqlite3.Cursor at 0x2084742fa40>"
      ]
     },
     "execution_count": 21,
     "metadata": {},
     "output_type": "execute_result"
    }
   ],
   "source": [
    "cur.execute(\"ALTER TABLE E_Warehouse add column 'employeeID' INTEGER\")"
   ]
  },
  {
   "cell_type": "code",
   "execution_count": 22,
   "metadata": {},
   "outputs": [
    {
     "data": {
      "text/plain": [
       "<sqlite3.Cursor at 0x2084742fa40>"
      ]
     },
     "execution_count": 22,
     "metadata": {},
     "output_type": "execute_result"
    }
   ],
   "source": [
    "cur.execute(\"ALTER TABLE E_Warehouse add column 'FOREIGN KEY (employeeID) REFERENCES E_EMPLOYEE (employeeID)' 'INTEGER'\")"
   ]
  },
  {
   "cell_type": "code",
   "execution_count": 15,
   "metadata": {},
   "outputs": [
    {
     "name": "stdout",
     "output_type": "stream",
     "text": [
      "Error in creating table\n"
     ]
    }
   ],
   "source": [
    "qry='''\n",
    "CREATE TABLE GP_INVENTORY (\n",
    "invID INTEGER PRIMARY KEY,\n",
    "invName TEXT (50),\n",
    "invColour TEXT (40),\n",
    ");\n",
    "'''\n",
    "try:\n",
    "        cur.execute(qry)\n",
    "        print ('Table created successfully')\n",
    "except:\n",
    "# If table already exists then use the SQLite console to connect to the database (BEMM459.db) and then use the drop table command.\n",
    "# .. Altenatively, use the SQLiteStudio GUI to delete table ECC_DEPARTMENT and execute this code block again.\n",
    "        print ('Error in creating table')\n",
    "        \n",
    "        \n",
    "       "
   ]
  },
  {
   "cell_type": "code",
   "execution_count": 30,
   "metadata": {},
   "outputs": [
    {
     "name": "stdout",
     "output_type": "stream",
     "text": [
      "Table created successfully\n"
     ]
    }
   ],
   "source": [
    "qry='''\n",
    "CREATE TABLE ETest_INVENTORY (\n",
    "invID INTEGER PRIMARY KEY,\n",
    "invName TEXT (30),\n",
    "invBrand TEXT (40),\n",
    "invColour TEXT (40),\n",
    "invSize INTEGER NOT NULL,\n",
    "invQuantity INTEGER NOT NULL,\n",
    "invPackaging TEXT (40)\n",
    ");\n",
    "'''\n",
    "try:\n",
    "        cur.execute(qry)\n",
    "        print ('Table created successfully')\n",
    "except:\n",
    "# If table already exists then use the SQLite console to connect to the database (BEMM459.db) and then use the drop table command.\n",
    "# .. Altenatively, use the SQLiteStudio GUI to delete table ECC_DEPARTMENT and execute this code block again.\n",
    "        print ('Error in creating table')"
   ]
  },
  {
   "cell_type": "code",
   "execution_count": 31,
   "metadata": {},
   "outputs": [
    {
     "name": "stdout",
     "output_type": "stream",
     "text": [
      "Table created successfully\n"
     ]
    }
   ],
   "source": [
    "qry='''\n",
    "CREATE TABLE E_Warehouse (\n",
    "storeID INTEGER PRIMARY KEY,\n",
    "storeName TEXT (30),\n",
    "storeAddress TEXT (40),\n",
    "storePhone INTEGER NOT NULL\n",
    ");\n",
    "'''\n",
    "try:\n",
    "        cur.execute(qry)\n",
    "        print ('Table created successfully')\n",
    "except:\n",
    "# If table already exists then use the SQLite console to connect to the database (BEMM459.db) and then use the drop table command.\n",
    "# .. Altenatively, use the SQLiteStudio GUI to delete table ECC_DEPARTMENT and execute this code block again.\n",
    "        print ('Error in creating table')"
   ]
  },
  {
   "cell_type": "code",
   "execution_count": 39,
   "metadata": {},
   "outputs": [
    {
     "name": "stdout",
     "output_type": "stream",
     "text": [
      "Table created successfully\n"
     ]
    }
   ],
   "source": [
    "qry='''\n",
    "CREATE TABLE E_INVENTORY (\n",
    "invID INTEGER PRIMARY KEY,\n",
    "invName TEXT (30),\n",
    "invBrand TEXT (40),\n",
    "invColour TEXT (40),\n",
    "invSize INTEGER NOT NULL,\n",
    "invQuantity INTEGER NOT NULL,\n",
    "invPackaging TEXT (40),\n",
    "storeID INTEGER NOT NULL,\n",
    "FOREIGN KEY (storeID) REFERENCES E_Warehouse (storeID)\n",
    ");\n",
    "'''\n",
    "try:\n",
    "        cur.execute(qry)\n",
    "        print ('Table created successfully')\n",
    "except:\n",
    "# If table already exists then use the SQLite console to connect to the database (BEMM459.db) and then use the drop table command.\n",
    "# .. Altenatively, use the SQLiteStudio GUI to delete table ECC_DEPARTMENT and execute this code block again.\n",
    "        print ('Error in creating table')"
   ]
  },
  {
   "cell_type": "code",
   "execution_count": 5,
   "metadata": {},
   "outputs": [
    {
     "name": "stdout",
     "output_type": "stream",
     "text": [
      "Table created successfully\n"
     ]
    }
   ],
   "source": [
    "qry='''\n",
    "CREATE TABLE ECO_INVENTORY (\n",
    "invID INTEGER PRIMARY KEY,\n",
    "invName TEXT (30) NOT NULL,\n",
    "invBrand TEXT (40) NOT NULL,\n",
    "invColour TEXT (40) NOT NULL,\n",
    "invSize INTEGER NOT NULL,\n",
    "invQuantity INTEGER NOT NULL,\n",
    "invPackaging TEXT (40),\n",
    "storeID INTEGER NOT NULL,\n",
    "FOREIGN KEY (storeID) REFERENCES E_Warehouse (storeID)\n",
    ");\n",
    "'''\n",
    "try:\n",
    "        cur.execute(qry)\n",
    "        print ('Table created successfully')\n",
    "except:\n",
    "# If table already exists then use the SQLite console to connect to the database (BEMM459.db) and then use the drop table command.\n",
    "# .. Altenatively, use the SQLiteStudio GUI to delete table ECC_DEPARTMENT and execute this code block again.\n",
    "        print ('Error in creating table')"
   ]
  },
  {
   "cell_type": "code",
   "execution_count": 16,
   "metadata": {},
   "outputs": [
    {
     "name": "stdout",
     "output_type": "stream",
     "text": [
      "Error in creating table\n"
     ]
    }
   ],
   "source": [
    "qry='''\n",
    "CREATE TABLE ECO_ORDER (\n",
    "orderID INTEGER PRIMARY KEY,\n",
    "orderDate INTEGER NOT NULL,\n",
    "orderDiscInfo INTEGER NOT NULL,\n",
    "orderComment TEXT (50) NOT NULL,\n",
    "orderStatus TEXT (50) NOT NULL,\n",
    "invID INTEGER NOT NULL,\n",
    "FOREIGN KEY (invID) REFERENCES ECO_INVENTORY (invID)\n",
    ");\n",
    "'''\n",
    "try:\n",
    "        cur.execute(qry)\n",
    "        print ('Table created successfully')\n",
    "except:\n",
    "# If table already exists then use the SQLite console to connect to the database (BEMM459.db) and then use the drop table command.\n",
    "# .. Altenatively, use the SQLiteStudio GUI to delete table ECC_DEPARTMENT and execute this code block again.\n",
    "        print ('Error in creating table')"
   ]
  },
  {
   "cell_type": "code",
   "execution_count": 17,
   "metadata": {},
   "outputs": [
    {
     "name": "stdout",
     "output_type": "stream",
     "text": [
      "Table created successfully\n"
     ]
    }
   ],
   "source": [
    "qry='''\n",
    "CREATE TABLE EC_ORDER (\n",
    "orderID INTEGER PRIMARY KEY,\n",
    "orderDate INTEGER NOT NULL,\n",
    "orderDiscInfo INTEGER NOT NULL,\n",
    "orderComment TEXT (50) NOT NULL,\n",
    "orderStatus TEXT (50) NOT NULL,\n",
    "invID INTEGER NOT NULL,\n",
    "delID INTEGER NOT NULL,\n",
    "FOREIGN KEY (invID) REFERENCES ECO_INVENTORY (invID),\n",
    "FOREIGN KEY (delID) REFERENCES DELIVERY_INFO (delID)\n",
    ");\n",
    "'''\n",
    "try:\n",
    "        cur.execute(qry)\n",
    "        print ('Table created successfully')\n",
    "except:\n",
    "# If table already exists then use the SQLite console to connect to the database (BEMM459.db) and then use the drop table command.\n",
    "# .. Altenatively, use the SQLiteStudio GUI to delete table ECC_DEPARTMENT and execute this code block again.\n",
    "        print ('Error in creating table')"
   ]
  },
  {
   "cell_type": "code",
   "execution_count": null,
   "metadata": {},
   "outputs": [],
   "source": []
  },
  {
   "cell_type": "code",
   "execution_count": 18,
   "metadata": {},
   "outputs": [
    {
     "name": "stdout",
     "output_type": "stream",
     "text": [
      "Table created successfully\n"
     ]
    }
   ],
   "source": [
    "qry='''\n",
    "CREATE TABLE ORD_INV (\n",
    "orderID INTEGER NOT NULL,\n",
    "invID INTEGER NOT NULL,\n",
    "PRIMARY KEY (orderID, invID),\n",
    "FOREIGN KEY (invID) REFERENCES ECO_INVENTORY (invID),\n",
    "FOREIGN KEY (orderID) REFERENCES ECO_ORDER (orderID)\n",
    ");\n",
    "'''\n",
    "try:\n",
    "        cur.execute(qry)\n",
    "        print ('Table created successfully')\n",
    "except:\n",
    "# If table already exists then use the SQLite console to connect to the database (BEMM459.db) and then use the drop table command.\n",
    "# .. Altenatively, use the SQLiteStudio GUI to delete table ECC_DEPARTMENT and execute this code block again.\n",
    "        print ('Error in creating table')"
   ]
  },
  {
   "cell_type": "code",
   "execution_count": 23,
   "metadata": {},
   "outputs": [
    {
     "name": "stdout",
     "output_type": "stream",
     "text": [
      "Table created successfully\n"
     ]
    }
   ],
   "source": [
    "qry='''\n",
    "CREATE TABLE CUST_TEST (\n",
    "custID INTEGER PRIMARY KEY,\n",
    "custFirstName TEXT (30),\n",
    "orderID INTEGER,\n",
    "FOREIGN KEY (orderID) REFERENCES ECO_ORDER (orderID)\n",
    ");\n",
    "'''\n",
    "try:\n",
    "        cur.execute(qry)\n",
    "        print ('Table created successfully')\n",
    "except:\n",
    "# If table already exists then use the SQLite console to connect to the database (BEMM459.db) and then use the drop table command.\n",
    "# .. Altenatively, use the SQLiteStudio GUI to delete table ECC_DEPARTMENT and execute this code block again.\n",
    "        print ('Error in creating table')"
   ]
  },
  {
   "cell_type": "code",
   "execution_count": 23,
   "metadata": {},
   "outputs": [
    {
     "name": "stdout",
     "output_type": "stream",
     "text": [
      "Table created successfully\n"
     ]
    }
   ],
   "source": [
    "qry='''\n",
    "CREATE TABLE E_CUSTOMER (\n",
    "custID INTEGER PRIMARY KEY,\n",
    "custFirstName TEXT (30) NOT NULL,\n",
    "custLastName TEXT (40) NOT NULL,\n",
    "custAddress TEXT (40) NOT NULL,\n",
    "custEmail TEXT (40) NOT NULL,\n",
    "custPhone INTEGER,\n",
    "orderID INTEGER,\n",
    "FOREIGN KEY (orderID) REFERENCES ECO_ORDER (orderID)\n",
    ");\n",
    "'''\n",
    "try:\n",
    "        cur.execute(qry)\n",
    "        print ('Table created successfully')\n",
    "except:\n",
    "# If table already exists then use the SQLite console to connect to the database (BEMM459.db) and then use the drop table command.\n",
    "# .. Altenatively, use the SQLiteStudio GUI to delete table ECC_DEPARTMENT and execute this code block again.\n",
    "        print ('Error in creating table')"
   ]
  },
  {
   "cell_type": "code",
   "execution_count": 8,
   "metadata": {},
   "outputs": [
    {
     "name": "stdout",
     "output_type": "stream",
     "text": [
      "Table created successfully\n"
     ]
    }
   ],
   "source": [
    "qry='''\n",
    "CREATE TABLE E_DELIVERYINFO (\n",
    "delID INTEGER PRIMARY KEY,\n",
    "custID INTEGER,\n",
    "courierID INTEGER,\n",
    "FOREIGN KEY (custID) REFERENCES CUST_TEST (custID),\n",
    "FOREIGN KEY (courierID) REFERENCES E_COURIER (courierID)\n",
    ");\n",
    "'''\n",
    "try:\n",
    "        cur.execute(qry)\n",
    "        print ('Table created successfully')\n",
    "except:\n",
    "# If table already exists then use the SQLite console to connect to the database (BEMM459.db) and then use the drop table command.\n",
    "# .. Altenatively, use the SQLiteStudio GUI to delete table ECC_DEPARTMENT and execute this code block again.\n",
    "        print ('Error in creating table')"
   ]
  },
  {
   "cell_type": "code",
   "execution_count": 26,
   "metadata": {},
   "outputs": [
    {
     "name": "stdout",
     "output_type": "stream",
     "text": [
      "Table created successfully\n"
     ]
    }
   ],
   "source": [
    "qry='''\n",
    "CREATE TABLE ORD_DEL (\n",
    "orderID INTEGER NOT NULL,\n",
    "delID INTEGER NOT NULL,\n",
    "PRIMARY KEY (orderID, delID),\n",
    "FOREIGN KEY (delID) REFERENCES DELIVERY_INFO (delID),\n",
    "FOREIGN KEY (orderID) REFERENCES ECO_ORDER (orderID)\n",
    ");\n",
    "'''\n",
    "try:\n",
    "        cur.execute(qry)\n",
    "        print ('Table created successfully')\n",
    "except:\n",
    "# If table already exists then use the SQLite console to connect to the database (BEMM459.db) and then use the drop table command.\n",
    "# .. Altenatively, use the SQLiteStudio GUI to delete table ECC_DEPARTMENT and execute this code block again.\n",
    "        print ('Error in creating table')"
   ]
  },
  {
   "cell_type": "code",
   "execution_count": 7,
   "metadata": {},
   "outputs": [
    {
     "name": "stdout",
     "output_type": "stream",
     "text": [
      "Table created successfully\n"
     ]
    }
   ],
   "source": [
    "qry='''\n",
    "CREATE TABLE E_EMPLOYEE (\n",
    "employeeID INTEGER PRIMARY KEY,\n",
    "employeeFirstName TEXT (30),\n",
    "employeeLastName TEXT (30),\n",
    "employeeDOB INTEGER NOT NULL, \n",
    "employeeType INTEGER NOT NULL, \n",
    "employeeEmail TEXT (30), \n",
    "employeeSalary INTEGER NOT NULL, \n",
    "employeeHireDate INTEGER NOT NULL, \n",
    "storeID INTEGER NOT NULL,\n",
    "FOREIGN KEY (storeID) REFERENCES E_WAREHOUSE (storeID)\n",
    ");\n",
    "'''\n",
    "try:\n",
    "        cur.execute(qry)\n",
    "        print ('Table created successfully')\n",
    "except:\n",
    "# If table already exists then use the SQLite console to connect to the database (groupproject3.db) and then use the drop table command.\n",
    "# .. Altenatively, use the SQLiteStudio GUI to delete table ECC_DEPARTMENT and execute this code block again.\n",
    "        print ('Error in creating table')"
   ]
  },
  {
   "cell_type": "code",
   "execution_count": 5,
   "metadata": {},
   "outputs": [
    {
     "name": "stdout",
     "output_type": "stream",
     "text": [
      "Table created successfully\n"
     ]
    }
   ],
   "source": [
    "qry='''\n",
    "CREATE TABLE E_BILLINGINFO (\n",
    "billingID INTEGER PRIMARY KEY,\n",
    "bilingFirstName TEXT (30) NOT NULL,\n",
    "billingLastName TEXT (30) NOT NULL,\n",
    "billingAddress TEXT (50) NOT NULL, \n",
    "billingTransaction INTEGER NOT NULL, \n",
    "billingDate INTEGER NOT NULL, \n",
    "custID INTEGER NOT NULL, \n",
    "FOREIGN KEY (custID) REFERENCES E_CUSTOMER (custID)\n",
    ");\n",
    "'''\n",
    "try:\n",
    "        cur.execute(qry)\n",
    "        print ('Table created successfully')\n",
    "except:\n",
    "# If table already exists then use the SQLite console to connect to the database (groupproject3.db) and then use the drop table command.\n",
    "# .. Altenatively, use the SQLiteStudio GUI to delete table ECC_DEPARTMENT and execute this code block again.\n",
    "        print ('Error in creating table')"
   ]
  },
  {
   "cell_type": "code",
   "execution_count": 7,
   "metadata": {},
   "outputs": [
    {
     "name": "stdout",
     "output_type": "stream",
     "text": [
      "Table created successfully\n"
     ]
    }
   ],
   "source": [
    "qry='''\n",
    "CREATE TABLE E_COURIER (\n",
    "courierID INTEGER PRIMARY KEY,\n",
    "courierName TEXT (50) NOT NULL,\n",
    "courierPhone INTEGER NOT NULL, \n",
    "courierEmail TEXT (30) NOT NULL \n",
    ");\n",
    "'''\n",
    "try:\n",
    "        cur.execute(qry)\n",
    "        print ('Table created successfully')\n",
    "except:\n",
    "# If table already exists then use the SQLite console to connect to the database (groupproject3.db) and then use the drop table command.\n",
    "# .. Altenatively, use the SQLiteStudio GUI to delete table ECC_DEPARTMENT and execute this code block again.\n",
    "        print ('Error in creating table')"
   ]
  },
  {
   "cell_type": "code",
   "execution_count": null,
   "metadata": {},
   "outputs": [],
   "source": []
  },
  {
   "cell_type": "code",
   "execution_count": null,
   "metadata": {},
   "outputs": [],
   "source": []
  },
  {
   "cell_type": "code",
   "execution_count": 27,
   "metadata": {},
   "outputs": [],
   "source": [
    "conn.close()"
   ]
  },
  {
   "cell_type": "code",
   "execution_count": 40,
   "metadata": {},
   "outputs": [
    {
     "name": "stdout",
     "output_type": "stream",
     "text": [
      "One record inserted successfully..commit\n"
     ]
    }
   ],
   "source": [
    "qry=\"insert into E_Warehouse values (1, 'NameTest', 'AddressTest',1234567);\"\n",
    "\n",
    "try:\n",
    "        cur.execute(qry)\n",
    "        conn.commit()\n",
    "        print ('One record inserted successfully..commit')\n",
    "except:\n",
    "        print ('Error in insert operation..rollback')\n",
    "        conn.rollback()\n",
    "        print(conn)"
   ]
  },
  {
   "cell_type": "code",
   "execution_count": 46,
   "metadata": {},
   "outputs": [
    {
     "name": "stdout",
     "output_type": "stream",
     "text": [
      "One record inserted successfully..commit\n"
     ]
    }
   ],
   "source": [
    "qry=\"insert into E_Inventory values (11, 'InvNameTest', 'InvBrandTest','Blue', 12, 20, 'invPackagingTest', 1);\"\n",
    "\n",
    "try:\n",
    "        cur.execute(qry)\n",
    "        conn.commit()\n",
    "        print ('One record inserted successfully..commit')\n",
    "except:\n",
    "        print ('Error in insert operation..rollback')\n",
    "        conn.rollback()\n",
    "        print(conn)"
   ]
  },
  {
   "cell_type": "code",
   "execution_count": 48,
   "metadata": {},
   "outputs": [
    {
     "name": "stdout",
     "output_type": "stream",
     "text": [
      "(11, 'InvNameTest', 'InvBrandTest', 'Blue', 12, 20, 'invPackagingTest', 1)\n"
     ]
    }
   ],
   "source": [
    "qry=\"select * from E_INVENTORY;\"\n",
    "cur.execute(qry)\n",
    "\n",
    "# Fetch and display one row\n",
    "row=cur.fetchone()\n",
    "\n",
    "print (row)"
   ]
  },
  {
   "cell_type": "code",
   "execution_count": 30,
   "metadata": {},
   "outputs": [
    {
     "ename": "OperationalError",
     "evalue": "no such table: E_INVENTORY",
     "output_type": "error",
     "traceback": [
      "\u001b[1;31m---------------------------------------------------------------------------\u001b[0m",
      "\u001b[1;31mOperationalError\u001b[0m                          Traceback (most recent call last)",
      "\u001b[1;32m<ipython-input-30-0eb3bf2fe934>\u001b[0m in \u001b[0;36m<module>\u001b[1;34m\u001b[0m\n\u001b[0;32m      5\u001b[0m \u001b[1;33m\u001b[0m\u001b[0m\n\u001b[0;32m      6\u001b[0m \u001b[1;31m# Execute query on SQLite\u001b[0m\u001b[1;33m\u001b[0m\u001b[1;33m\u001b[0m\u001b[1;33m\u001b[0m\u001b[0m\n\u001b[1;32m----> 7\u001b[1;33m \u001b[0mcur\u001b[0m\u001b[1;33m.\u001b[0m\u001b[0mexecute\u001b[0m\u001b[1;33m(\u001b[0m\u001b[0mqry\u001b[0m\u001b[1;33m)\u001b[0m\u001b[1;33m\u001b[0m\u001b[1;33m\u001b[0m\u001b[0m\n\u001b[0m\u001b[0;32m      8\u001b[0m \u001b[1;33m\u001b[0m\u001b[0m\n\u001b[0;32m      9\u001b[0m \u001b[1;31m# Fetch and display one row\u001b[0m\u001b[1;33m\u001b[0m\u001b[1;33m\u001b[0m\u001b[1;33m\u001b[0m\u001b[0m\n",
      "\u001b[1;31mOperationalError\u001b[0m: no such table: E_INVENTORY"
     ]
    }
   ],
   "source": [
    "# Query and display one record from the table ECC_DEPARTMENT\n",
    "\n",
    "# Prepare the query String\n",
    "qry=\"select * from E_INVENTORY;\"\n",
    "\n",
    "# Execute query on SQLite\n",
    "cur.execute(qry)\n",
    "\n",
    "# Fetch and display one row\n",
    "row=cur.fetchone()\n",
    "\n",
    "print (row)"
   ]
  },
  {
   "cell_type": "code",
   "execution_count": null,
   "metadata": {},
   "outputs": [],
   "source": [
    "# Query and display records from the table ECC_DEPARTMENT based on user input\n",
    "\n",
    "inputDepartmentNum=input ('Enter ECE_department number:')\n",
    "qry=\"select * from ECC_department where departmentID=?\";\n",
    "cur.execute(qry, (inputDepartmentNum,))\n",
    "row=cur.fetchone()\n",
    "print (row)\n",
    "\n",
    "# IMPORTANT: Individual items in the tuple can be accessed by index .. we are accessing the second attribute\n",
    "print (\"Department Name is \", row[1])"
   ]
  },
  {
   "cell_type": "code",
   "execution_count": null,
   "metadata": {},
   "outputs": [],
   "source": [
    "# Update table based on user input\n",
    "\n",
    "inputName=input('Enter name of ECC_department to update:')\n",
    "inputDepartmentNum=int(input('Enter new department number:'))\n",
    "qry='update ECC_department set departmentID=? where departmentName=?'\n",
    "\n",
    "try:\n",
    "        cur.execute(qry, (inputDepartmentNum,inputName))\n",
    "        print ('Department name updated')\n",
    "        conn.commit()\n",
    "except:\n",
    "        print ('Error in update operation .. rollback')\n",
    "        conn.rollback()"
   ]
  },
  {
   "cell_type": "code",
   "execution_count": null,
   "metadata": {},
   "outputs": [],
   "source": [
    "# Delete record based on user input\n",
    "\n",
    "inputName=input('Enter name of ECC_department to delete:')\n",
    "qry='delete from ECC_department where departmentName=?'\n",
    "try:\n",
    "        cur.execute(qry, (inputName,))\n",
    "        print ('Department deleted')\n",
    "        conn.commit()\n",
    "except:\n",
    "        print ('Error in deleting department', inputName)\n",
    "        conn.rollback()"
   ]
  },
  {
   "cell_type": "code",
   "execution_count": null,
   "metadata": {},
   "outputs": [],
   "source": []
  },
  {
   "cell_type": "code",
   "execution_count": null,
   "metadata": {},
   "outputs": [],
   "source": []
  },
  {
   "cell_type": "code",
   "execution_count": null,
   "metadata": {},
   "outputs": [],
   "source": []
  },
  {
   "cell_type": "code",
   "execution_count": null,
   "metadata": {},
   "outputs": [],
   "source": []
  }
 ],
 "metadata": {
  "kernelspec": {
   "display_name": "Python 3",
   "language": "python",
   "name": "python3"
  },
  "language_info": {
   "codemirror_mode": {
    "name": "ipython",
    "version": 3
   },
   "file_extension": ".py",
   "mimetype": "text/x-python",
   "name": "python",
   "nbconvert_exporter": "python",
   "pygments_lexer": "ipython3",
   "version": "3.7.3"
  }
 },
 "nbformat": 4,
 "nbformat_minor": 2
}
